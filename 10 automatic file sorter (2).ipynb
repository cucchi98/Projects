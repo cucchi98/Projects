{
 "cells": [
  {
   "cell_type": "code",
   "execution_count": 1,
   "id": "e55c76ca-0d47-4d42-a5fb-824686ec9ed0",
   "metadata": {},
   "outputs": [],
   "source": [
    "import os, shutil"
   ]
  },
  {
   "cell_type": "code",
   "execution_count": 9,
   "id": "a050a62e-2db2-48cc-9dcc-f753c38d2891",
   "metadata": {},
   "outputs": [
    {
     "name": "stdout",
     "output_type": "stream",
     "text": [
      "['00942.jpg', '1 introduction.pbix', '1 pivot table example.xlsx', '2 most used formulas.xlsx', '2 power qwery.pbix', '20191206_152810.mp4', '3 relationships.pbix', '3 XLOOKUP.xlsx', '4 Conditional Formatting.xlsx', '4 DAX functions.pbix', '5 Charts.xlsx', '5 Drill Down.pbix', '6 conditional formatting.pbix', '6 Data Cleaning.xlsx', '7 Excel Project Dataset.xlsx', 'AutoBI.csv', 'chartetf.csv', 'Collezione monete.pdf', 'dati vendite.csv', 'ETF americani.png', 'main.py', 'mydata.csv', 'mydata3.csv', 'mydata5.csv', 'ritorno asset 1.csv', 'ritorno asset 2.csv', 'ritorno asset 3.csv', 'Screenshot 2023-03-11 164826.png', 'Screenshot 2023-05-04 144409.png', 'Screenshot 2023-05-04 145019.png', 'vinted logo.docx']\n"
     ]
    }
   ],
   "source": [
    "path = r\"D:/Desktop/corso python/file sorter python/\" #r davanti serve a leggerlo come fosse un testo altrimenti potrebbe confondere i /\n",
    "\n",
    "file_name = os.listdir(path)\n",
    "print(file_name)"
   ]
  },
  {
   "cell_type": "code",
   "execution_count": 10,
   "id": "61de381f-8241-4125-9235-a7d6b53e6282",
   "metadata": {},
   "outputs": [
    {
     "name": "stdout",
     "output_type": "stream",
     "text": [
      "the extensions are:  ['pdf', 'csv', 'png', 'jpg', 'mp4', 'py', 'docx', 'pbix', 'xlsx']\n",
      "\n",
      "the folder names are:  ['pdf files', 'csv files', 'png files', 'jpg files', 'mp4 files', 'py files', 'docx files', 'pbix files', 'xlsx files']\n"
     ]
    }
   ],
   "source": [
    "extension_list = []\n",
    "\n",
    "for file in file_name:\n",
    "    if \"file\" in file:\n",
    "        break\n",
    "    extension = file.split(\".\")[-1]\n",
    "    extension_list.append(extension)\n",
    "\n",
    "extension_set = set(extension_list)\n",
    "extension_list_unique = list(extension_set)\n",
    "print(\"the extensions are: \", extension_list_unique)\n",
    "\n",
    "folder_names = []\n",
    "\n",
    "for element in extension_list_unique:\n",
    "    folder_names.append(element + \" files\")\n",
    "print(\"\\nthe folder names are: \", folder_names)"
   ]
  },
  {
   "cell_type": "code",
   "execution_count": 11,
   "id": "9e6b2157-062f-4f14-b52d-6b70390055e6",
   "metadata": {},
   "outputs": [
    {
     "name": "stdout",
     "output_type": "stream",
     "text": [
      "D:/Desktop/corso python/file sorter python/pdf files\n",
      "D:/Desktop/corso python/file sorter python/csv files\n",
      "D:/Desktop/corso python/file sorter python/png files\n",
      "D:/Desktop/corso python/file sorter python/jpg files\n",
      "D:/Desktop/corso python/file sorter python/mp4 files\n",
      "D:/Desktop/corso python/file sorter python/py files\n",
      "D:/Desktop/corso python/file sorter python/docx files\n",
      "D:/Desktop/corso python/file sorter python/pbix files\n",
      "D:/Desktop/corso python/file sorter python/xlsx files\n"
     ]
    }
   ],
   "source": [
    "for element in folder_names: #nel caso usassi un contatore al posto di element dovrei mettere folder_names[element]\n",
    "    if not os.path.exists(path + element):\n",
    "        print(path + element)\n",
    "        os.makedirs(path + element)"
   ]
  },
  {
   "cell_type": "code",
   "execution_count": 12,
   "id": "a28211be-7b9e-48f9-9a83-53c43d15640e",
   "metadata": {},
   "outputs": [],
   "source": [
    "for extension_name in extension_list_unique:\n",
    "    for file in file_name:\n",
    "        if (extension_name == file.split(\".\")[-1]):\n",
    "            shutil.move(path + file, path + extension_name + \" files/\")"
   ]
  },
  {
   "cell_type": "code",
   "execution_count": null,
   "id": "25af7dd4-4a24-4e89-9f1b-6a1dfa8fa1a8",
   "metadata": {},
   "outputs": [],
   "source": []
  },
  {
   "cell_type": "code",
   "execution_count": null,
   "id": "65589000-ae78-44be-ab69-e12c819ab4a1",
   "metadata": {},
   "outputs": [],
   "source": []
  },
  {
   "cell_type": "code",
   "execution_count": null,
   "id": "73587342-7c82-4e38-aadd-0b29478c1e84",
   "metadata": {},
   "outputs": [],
   "source": []
  },
  {
   "cell_type": "code",
   "execution_count": null,
   "id": "b63ec1c3-59c7-47ea-8f81-6cd0ded8f3f7",
   "metadata": {},
   "outputs": [],
   "source": []
  },
  {
   "cell_type": "code",
   "execution_count": null,
   "id": "2141c6b0-f2eb-4817-b0b9-8ad8131d0106",
   "metadata": {},
   "outputs": [],
   "source": []
  },
  {
   "cell_type": "code",
   "execution_count": null,
   "id": "f57e2724-4abf-4616-885e-56a2374ce32b",
   "metadata": {},
   "outputs": [],
   "source": []
  },
  {
   "cell_type": "code",
   "execution_count": null,
   "id": "cd78b859-50c3-46a1-9fdc-ee6ada668d2a",
   "metadata": {},
   "outputs": [],
   "source": []
  }
 ],
 "metadata": {
  "kernelspec": {
   "display_name": "Python 3 (ipykernel)",
   "language": "python",
   "name": "python3"
  },
  "language_info": {
   "codemirror_mode": {
    "name": "ipython",
    "version": 3
   },
   "file_extension": ".py",
   "mimetype": "text/x-python",
   "name": "python",
   "nbconvert_exporter": "python",
   "pygments_lexer": "ipython3",
   "version": "3.11.7"
  }
 },
 "nbformat": 4,
 "nbformat_minor": 5
}
